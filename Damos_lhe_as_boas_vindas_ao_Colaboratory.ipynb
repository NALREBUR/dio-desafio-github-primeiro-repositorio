{
  "cells": [
    {
      "cell_type": "markdown",
      "metadata": {
        "id": "view-in-github",
        "colab_type": "text"
      },
      "source": [
        "<a href=\"https://colab.research.google.com/github/NALREBUR/dio-desafio-github-primeiro-repositorio/blob/main/Damos_lhe_as_boas_vindas_ao_Colaboratory.ipynb\" target=\"_parent\"><img src=\"https://colab.research.google.com/assets/colab-badge.svg\" alt=\"Open In Colab\"/></a>"
      ]
    },
    {
      "cell_type": "code",
      "source": [
        "quantidadeRodas = int (input(\"Informe a quantidade de rodas: \"))\n",
        "pesoBrutoKg = float (input(\"Informe o peso bruto em quilogramas: \"))\n",
        "quantidadePessoas = int (input(\"Informe a quantidade de pessoas: \")) \n",
        "\n",
        "if ((quantidadeRodas == 2) or (quantidadeRodas == 3)): \n",
        "  print(\"CATEGORIA A\")\n",
        "elif ((quantidadeRodas == 4) and (pesoBrutoKg <= 3500) and (quantidadePessoas <= 8)):\n",
        "  print(\"CATEGORIA B\")\n",
        "elif ((quantidadeRodas >= 4) and (pesoBrutoKg >= 3500 <= 6000)):\n",
        "  print(\"CATEGORIA C\")\n",
        "elif ((quantidadeRodas >= 4) and (quantidadePessoas > 8)):\n",
        "  print(\"CATEGORIA D\")\n",
        "elif ((quantidadeRodas >= 4) and (pesoBrutoKg > 6000)):\n",
        "  print(\"CATEGORIA E\")\n",
        "else:\n",
        "  print(\"Não há categoria para essas informações\")\n",
        "\n",
        "  \n",
        "\n",
        "\n",
        "\n",
        "\n",
        "\n",
        "\n"
      ],
      "metadata": {
        "id": "V-FQRZ_md3p3",
        "colab": {
          "base_uri": "https://localhost:8080/"
        },
        "outputId": "250fe565-7077-4903-b98e-f0b5ab36f665"
      },
      "execution_count": 5,
      "outputs": [
        {
          "output_type": "stream",
          "name": "stdout",
          "text": [
            "Informe a quantidade de rodas: 2\n",
            "Informe o peso bruto em quilogramas: 3222\n",
            "Informe a quantidade de pessoas: 2\n",
            "CATEGORIA A\n"
          ]
        }
      ]
    },
    {
      "cell_type": "markdown",
      "source": [],
      "metadata": {
        "id": "G9OoYM9iXo17"
      }
    }
  ],
  "metadata": {
    "colab": {
      "name": "Damos-lhe as boas-vindas ao Colaboratory",
      "provenance": [],
      "include_colab_link": true
    },
    "kernelspec": {
      "display_name": "Python 3",
      "name": "python3"
    }
  },
  "nbformat": 4,
  "nbformat_minor": 0
}